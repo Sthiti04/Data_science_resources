{
 "cells": [
  {
   "cell_type": "code",
   "execution_count": 1,
   "id": "8e4135eb",
   "metadata": {},
   "outputs": [
    {
     "name": "stdout",
     "output_type": "stream",
     "text": [
      "<class 'int'>\n"
     ]
    }
   ],
   "source": [
    "x = 4\n",
    "print(type(x))"
   ]
  },
  {
   "cell_type": "code",
   "execution_count": 2,
   "id": "dbbd031c",
   "metadata": {},
   "outputs": [
    {
     "name": "stdout",
     "output_type": "stream",
     "text": [
      "<class 'str'>\n"
     ]
    }
   ],
   "source": [
    "x = str(x)\n",
    "print(type(x))"
   ]
  },
  {
   "cell_type": "code",
   "execution_count": 3,
   "id": "8b807b7e",
   "metadata": {},
   "outputs": [
    {
     "name": "stdout",
     "output_type": "stream",
     "text": [
      "10\n"
     ]
    }
   ],
   "source": [
    "x = 10 #global variable\n",
    "def fun1():\n",
    "    y = 7\n",
    "    print(x)\n",
    "    \n",
    "fun1()"
   ]
  },
  {
   "cell_type": "code",
   "execution_count": 4,
   "id": "82295396",
   "metadata": {},
   "outputs": [
    {
     "data": {
      "text/plain": [
       "False"
      ]
     },
     "execution_count": 4,
     "metadata": {},
     "output_type": "execute_result"
    }
   ],
   "source": [
    "x = 7\n",
    "y = 9\n",
    "x==y"
   ]
  },
  {
   "cell_type": "code",
   "execution_count": 5,
   "id": "8c232503",
   "metadata": {},
   "outputs": [
    {
     "data": {
      "text/plain": [
       "True"
      ]
     },
     "execution_count": 5,
     "metadata": {},
     "output_type": "execute_result"
    }
   ],
   "source": [
    "x != y"
   ]
  },
  {
   "cell_type": "code",
   "execution_count": 6,
   "id": "075aa2fa",
   "metadata": {},
   "outputs": [
    {
     "data": {
      "text/plain": [
       "True"
      ]
     },
     "execution_count": 6,
     "metadata": {},
     "output_type": "execute_result"
    }
   ],
   "source": [
    "x = 10\n",
    "x > 1 and x < 20"
   ]
  },
  {
   "cell_type": "code",
   "execution_count": 7,
   "id": "27604a13",
   "metadata": {},
   "outputs": [
    {
     "data": {
      "text/plain": [
       "True"
      ]
     },
     "execution_count": 7,
     "metadata": {},
     "output_type": "execute_result"
    }
   ],
   "source": [
    "x > 1 or x < 10"
   ]
  },
  {
   "cell_type": "code",
   "execution_count": 8,
   "id": "772d01b6",
   "metadata": {},
   "outputs": [
    {
     "name": "stdout",
     "output_type": "stream",
     "text": [
      "10\n",
      "11\n"
     ]
    }
   ],
   "source": [
    "#10 = 1010\n",
    "#11 = 1011\n",
    "print(10 & 11)\n",
    "print(10 | 11)"
   ]
  },
  {
   "cell_type": "code",
   "execution_count": 9,
   "id": "c6d18665",
   "metadata": {},
   "outputs": [
    {
     "name": "stdout",
     "output_type": "stream",
     "text": [
      "True\n",
      "False\n",
      "True\n"
     ]
    }
   ],
   "source": [
    "#Identity operator\n",
    "x = 10\n",
    "y = 10\n",
    "z = 15\n",
    "print(x is y)\n",
    "print(z is y)\n",
    "print(z is not x)"
   ]
  },
  {
   "cell_type": "code",
   "execution_count": 10,
   "id": "5d793d45",
   "metadata": {},
   "outputs": [
    {
     "data": {
      "text/plain": [
       "True"
      ]
     },
     "execution_count": 10,
     "metadata": {},
     "output_type": "execute_result"
    }
   ],
   "source": [
    "#Membership operator\n",
    "t = (3,4,6,9)\n",
    "4 in t"
   ]
  },
  {
   "cell_type": "code",
   "execution_count": 11,
   "id": "1a69b1dd",
   "metadata": {},
   "outputs": [
    {
     "name": "stdout",
     "output_type": "stream",
     "text": [
      "Hello I am Harry Potter\n",
      "Hello I am Harry Potter\n"
     ]
    }
   ],
   "source": [
    "#String formatting\n",
    "s1 = \"Harry\"\n",
    "s2 = \"Potter\"\n",
    "print('Hello I am {} {}'.format(s1,s2))\n",
    "print('Hello I am {0} {1}'.format(s1,s2))"
   ]
  },
  {
   "cell_type": "code",
   "execution_count": 12,
   "id": "25627e71",
   "metadata": {},
   "outputs": [
    {
     "name": "stdout",
     "output_type": "stream",
     "text": [
      "My name is Pam. I am 25 years old\n"
     ]
    }
   ],
   "source": [
    "#Using f strings\n",
    "sname = \"Pam\"\n",
    "age = 25\n",
    "print(f'My name is {sname}. I am {age} years old')"
   ]
  },
  {
   "cell_type": "code",
   "execution_count": 13,
   "id": "a93efece",
   "metadata": {},
   "outputs": [
    {
     "data": {
      "text/plain": [
       "'Bollywood'"
      ]
     },
     "execution_count": 13,
     "metadata": {},
     "output_type": "execute_result"
    }
   ],
   "source": [
    "#String methods\n",
    "s1 = \"bollywood\"\n",
    "s1.capitalize()"
   ]
  },
  {
   "cell_type": "code",
   "execution_count": 14,
   "id": "01c436a4",
   "metadata": {},
   "outputs": [
    {
     "data": {
      "text/plain": [
       "'hollywood'"
      ]
     },
     "execution_count": 14,
     "metadata": {},
     "output_type": "execute_result"
    }
   ],
   "source": [
    "s2 = \"HOLLYWOOD\"\n",
    "s2.lower()"
   ]
  },
  {
   "cell_type": "code",
   "execution_count": 15,
   "id": "82651cb0",
   "metadata": {},
   "outputs": [
    {
     "data": {
      "text/plain": [
       "'MOVIE'"
      ]
     },
     "execution_count": 15,
     "metadata": {},
     "output_type": "execute_result"
    }
   ],
   "source": [
    "s3 = \"movie\"\n",
    "s3.upper()"
   ]
  },
  {
   "cell_type": "code",
   "execution_count": 16,
   "id": "da3e9951",
   "metadata": {},
   "outputs": [
    {
     "data": {
      "text/plain": [
       "'Ram Shyam Mohan'"
      ]
     },
     "execution_count": 16,
     "metadata": {},
     "output_type": "execute_result"
    }
   ],
   "source": [
    "#join method\n",
    "s1 = ['Ram','Shyam','Mohan']\n",
    "x = \" \".join(s1)\n",
    "x"
   ]
  },
  {
   "cell_type": "code",
   "execution_count": 17,
   "id": "c9a92375",
   "metadata": {},
   "outputs": [
    {
     "data": {
      "text/plain": [
       "['Data', 'Science']"
      ]
     },
     "execution_count": 17,
     "metadata": {},
     "output_type": "execute_result"
    }
   ],
   "source": [
    "s = 'Data+Science'\n",
    "s.split('+')"
   ]
  },
  {
   "cell_type": "code",
   "execution_count": 18,
   "id": "fa9235f5",
   "metadata": {},
   "outputs": [
    {
     "data": {
      "text/plain": [
       "'Data'"
      ]
     },
     "execution_count": 18,
     "metadata": {},
     "output_type": "execute_result"
    }
   ],
   "source": [
    "s = '     Data'\n",
    "s.strip()"
   ]
  },
  {
   "cell_type": "code",
   "execution_count": 27,
   "id": "3a711ee3",
   "metadata": {},
   "outputs": [
    {
     "name": "stdout",
     "output_type": "stream",
     "text": [
      "What is your name?Sthiti\n"
     ]
    },
    {
     "data": {
      "text/plain": [
       "'Sthiti'"
      ]
     },
     "execution_count": 27,
     "metadata": {},
     "output_type": "execute_result"
    }
   ],
   "source": [
    "#input\n",
    "input(\"What is your name?\")"
   ]
  },
  {
   "cell_type": "code",
   "execution_count": 28,
   "id": "8eda8f3e",
   "metadata": {},
   "outputs": [
    {
     "name": "stdout",
     "output_type": "stream",
     "text": [
      "Enter number:200\n"
     ]
    }
   ],
   "source": [
    "a = int(input(\"Enter number:\"))"
   ]
  },
  {
   "cell_type": "code",
   "execution_count": 19,
   "id": "6166e2ed",
   "metadata": {},
   "outputs": [
    {
     "name": "stdout",
     "output_type": "stream",
     "text": [
      "4 greater than 0\n"
     ]
    }
   ],
   "source": [
    "x = 4\n",
    "if x > 0:\n",
    "    print('{} greater than 0'.format(x))\n",
    "else:\n",
    "    print('{} not greater than 0'.format(x))"
   ]
  },
  {
   "cell_type": "code",
   "execution_count": 20,
   "id": "1b39b6b3",
   "metadata": {},
   "outputs": [
    {
     "name": "stdout",
     "output_type": "stream",
     "text": [
      "Delhi\n",
      "Jaipur\n",
      "Mumbai\n",
      "Hyderabad\n"
     ]
    }
   ],
   "source": [
    "a = ['Delhi','Jaipur','Mumbai','Hyderabad']\n",
    "for city in a:\n",
    "    print(city)"
   ]
  },
  {
   "cell_type": "code",
   "execution_count": 21,
   "id": "d2a594fd",
   "metadata": {},
   "outputs": [
    {
     "name": "stdout",
     "output_type": "stream",
     "text": [
      "1\n",
      "2\n",
      "3\n",
      "4\n",
      "5\n"
     ]
    }
   ],
   "source": [
    "#using break statement\n",
    "for i in range(1,10):\n",
    "    print(i)\n",
    "    if i == 5:\n",
    "        break"
   ]
  },
  {
   "cell_type": "code",
   "execution_count": 23,
   "id": "78d833c1",
   "metadata": {},
   "outputs": [
    {
     "name": "stdout",
     "output_type": "stream",
     "text": [
      "1\n",
      "2\n",
      "3\n",
      "4\n",
      "6\n",
      "7\n",
      "8\n",
      "9\n"
     ]
    }
   ],
   "source": [
    "#using continue statement\n",
    "for i in range(1,10):\n",
    "    if i == 5:\n",
    "        continue\n",
    "    print(i)"
   ]
  },
  {
   "cell_type": "code",
   "execution_count": null,
   "id": "f9e4ef30",
   "metadata": {},
   "outputs": [],
   "source": []
  }
 ],
 "metadata": {
  "kernelspec": {
   "display_name": "Python 3 (ipykernel)",
   "language": "python",
   "name": "python3"
  },
  "language_info": {
   "codemirror_mode": {
    "name": "ipython",
    "version": 3
   },
   "file_extension": ".py",
   "mimetype": "text/x-python",
   "name": "python",
   "nbconvert_exporter": "python",
   "pygments_lexer": "ipython3",
   "version": "3.9.7"
  }
 },
 "nbformat": 4,
 "nbformat_minor": 5
}
